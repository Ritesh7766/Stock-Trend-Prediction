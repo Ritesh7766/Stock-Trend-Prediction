{
 "cells": [
  {
   "cell_type": "markdown",
   "id": "78ee9759-315e-4c22-9264-afaf7c2ffb5a",
   "metadata": {},
   "source": [
    "### Create a ticker object for SBI."
   ]
  },
  {
   "cell_type": "code",
   "execution_count": null,
   "id": "3fe4c1dc-5798-41db-add8-ab378c2541da",
   "metadata": {},
   "outputs": [],
   "source": []
  },
  {
   "cell_type": "code",
   "execution_count": 2,
   "id": "a44b4c7e-3380-4000-bd81-8398103dd7cf",
   "metadata": {},
   "outputs": [],
   "source": [
    "sbi = yfinance.Ticker('sbin.ns')"
   ]
  },
  {
   "cell_type": "markdown",
   "id": "c36f3a71-6884-4886-8f39-65a193325ced",
   "metadata": {},
   "source": [
    "### Get the stock information for the year 2010-2019"
   ]
  },
  {
   "cell_type": "code",
   "execution_count": 3,
   "id": "1f5a0c61-e1ed-47e1-85ee-d170ca174441",
   "metadata": {},
   "outputs": [],
   "source": [
    "data = sbi.history(start = '2010-01-01', end = '2020-01-01')"
   ]
  },
  {
   "cell_type": "code",
   "execution_count": 4,
   "id": "65370fbb-b9d6-4112-9950-8f5545219d19",
   "metadata": {},
   "outputs": [
    {
     "data": {
      "text/html": [
       "<div>\n",
       "<style scoped>\n",
       "    .dataframe tbody tr th:only-of-type {\n",
       "        vertical-align: middle;\n",
       "    }\n",
       "\n",
       "    .dataframe tbody tr th {\n",
       "        vertical-align: top;\n",
       "    }\n",
       "\n",
       "    .dataframe thead th {\n",
       "        text-align: right;\n",
       "    }\n",
       "</style>\n",
       "<table border=\"1\" class=\"dataframe\">\n",
       "  <thead>\n",
       "    <tr style=\"text-align: right;\">\n",
       "      <th></th>\n",
       "      <th>Open</th>\n",
       "      <th>High</th>\n",
       "      <th>Low</th>\n",
       "      <th>Close</th>\n",
       "      <th>Volume</th>\n",
       "      <th>Dividends</th>\n",
       "      <th>Stock Splits</th>\n",
       "    </tr>\n",
       "    <tr>\n",
       "      <th>Date</th>\n",
       "      <th></th>\n",
       "      <th></th>\n",
       "      <th></th>\n",
       "      <th></th>\n",
       "      <th></th>\n",
       "      <th></th>\n",
       "      <th></th>\n",
       "    </tr>\n",
       "  </thead>\n",
       "  <tbody>\n",
       "    <tr>\n",
       "      <th>2010-01-04</th>\n",
       "      <td>198.109296</td>\n",
       "      <td>200.286321</td>\n",
       "      <td>198.109296</td>\n",
       "      <td>199.520004</td>\n",
       "      <td>11031470</td>\n",
       "      <td>0.0</td>\n",
       "      <td>0.0</td>\n",
       "    </tr>\n",
       "    <tr>\n",
       "      <th>2010-01-05</th>\n",
       "      <td>200.983045</td>\n",
       "      <td>201.157204</td>\n",
       "      <td>198.553476</td>\n",
       "      <td>199.594101</td>\n",
       "      <td>11613740</td>\n",
       "      <td>0.0</td>\n",
       "      <td>0.0</td>\n",
       "    </tr>\n",
       "    <tr>\n",
       "      <th>2010-01-06</th>\n",
       "      <td>200.025126</td>\n",
       "      <td>201.592587</td>\n",
       "      <td>198.980156</td>\n",
       "      <td>200.791443</td>\n",
       "      <td>14527930</td>\n",
       "      <td>0.0</td>\n",
       "      <td>0.0</td>\n",
       "    </tr>\n",
       "    <tr>\n",
       "      <th>2010-01-07</th>\n",
       "      <td>200.808879</td>\n",
       "      <td>201.157198</td>\n",
       "      <td>198.640556</td>\n",
       "      <td>199.668106</td>\n",
       "      <td>8576510</td>\n",
       "      <td>0.0</td>\n",
       "      <td>0.0</td>\n",
       "    </tr>\n",
       "    <tr>\n",
       "      <th>2010-01-08</th>\n",
       "      <td>199.763856</td>\n",
       "      <td>200.625963</td>\n",
       "      <td>198.553431</td>\n",
       "      <td>199.071564</td>\n",
       "      <td>10453820</td>\n",
       "      <td>0.0</td>\n",
       "      <td>0.0</td>\n",
       "    </tr>\n",
       "    <tr>\n",
       "      <th>...</th>\n",
       "      <td>...</td>\n",
       "      <td>...</td>\n",
       "      <td>...</td>\n",
       "      <td>...</td>\n",
       "      <td>...</td>\n",
       "      <td>...</td>\n",
       "      <td>...</td>\n",
       "    </tr>\n",
       "    <tr>\n",
       "      <th>2019-12-24</th>\n",
       "      <td>325.078653</td>\n",
       "      <td>326.054279</td>\n",
       "      <td>321.176148</td>\n",
       "      <td>323.371307</td>\n",
       "      <td>21747782</td>\n",
       "      <td>0.0</td>\n",
       "      <td>0.0</td>\n",
       "    </tr>\n",
       "    <tr>\n",
       "      <th>2019-12-26</th>\n",
       "      <td>324.883519</td>\n",
       "      <td>325.322563</td>\n",
       "      <td>320.102957</td>\n",
       "      <td>321.810303</td>\n",
       "      <td>24616942</td>\n",
       "      <td>0.0</td>\n",
       "      <td>0.0</td>\n",
       "    </tr>\n",
       "    <tr>\n",
       "      <th>2019-12-27</th>\n",
       "      <td>325.273771</td>\n",
       "      <td>330.103133</td>\n",
       "      <td>324.883526</td>\n",
       "      <td>329.029938</td>\n",
       "      <td>33477173</td>\n",
       "      <td>0.0</td>\n",
       "      <td>0.0</td>\n",
       "    </tr>\n",
       "    <tr>\n",
       "      <th>2019-12-30</th>\n",
       "      <td>329.517743</td>\n",
       "      <td>329.615312</td>\n",
       "      <td>324.395706</td>\n",
       "      <td>326.249390</td>\n",
       "      <td>22775554</td>\n",
       "      <td>0.0</td>\n",
       "      <td>0.0</td>\n",
       "    </tr>\n",
       "    <tr>\n",
       "      <th>2019-12-31</th>\n",
       "      <td>326.249385</td>\n",
       "      <td>328.151868</td>\n",
       "      <td>324.444471</td>\n",
       "      <td>325.615234</td>\n",
       "      <td>23801635</td>\n",
       "      <td>0.0</td>\n",
       "      <td>0.0</td>\n",
       "    </tr>\n",
       "  </tbody>\n",
       "</table>\n",
       "<p>2462 rows × 7 columns</p>\n",
       "</div>"
      ],
      "text/plain": [
       "                  Open        High         Low       Close    Volume  \\\n",
       "Date                                                                   \n",
       "2010-01-04  198.109296  200.286321  198.109296  199.520004  11031470   \n",
       "2010-01-05  200.983045  201.157204  198.553476  199.594101  11613740   \n",
       "2010-01-06  200.025126  201.592587  198.980156  200.791443  14527930   \n",
       "2010-01-07  200.808879  201.157198  198.640556  199.668106   8576510   \n",
       "2010-01-08  199.763856  200.625963  198.553431  199.071564  10453820   \n",
       "...                ...         ...         ...         ...       ...   \n",
       "2019-12-24  325.078653  326.054279  321.176148  323.371307  21747782   \n",
       "2019-12-26  324.883519  325.322563  320.102957  321.810303  24616942   \n",
       "2019-12-27  325.273771  330.103133  324.883526  329.029938  33477173   \n",
       "2019-12-30  329.517743  329.615312  324.395706  326.249390  22775554   \n",
       "2019-12-31  326.249385  328.151868  324.444471  325.615234  23801635   \n",
       "\n",
       "            Dividends  Stock Splits  \n",
       "Date                                 \n",
       "2010-01-04        0.0           0.0  \n",
       "2010-01-05        0.0           0.0  \n",
       "2010-01-06        0.0           0.0  \n",
       "2010-01-07        0.0           0.0  \n",
       "2010-01-08        0.0           0.0  \n",
       "...               ...           ...  \n",
       "2019-12-24        0.0           0.0  \n",
       "2019-12-26        0.0           0.0  \n",
       "2019-12-27        0.0           0.0  \n",
       "2019-12-30        0.0           0.0  \n",
       "2019-12-31        0.0           0.0  \n",
       "\n",
       "[2462 rows x 7 columns]"
      ]
     },
     "execution_count": 4,
     "metadata": {},
     "output_type": "execute_result"
    }
   ],
   "source": [
    "data"
   ]
  },
  {
   "cell_type": "markdown",
   "id": "34945a1e-6d99-408f-8fc6-967ecc50aa2f",
   "metadata": {},
   "source": [
    "### Line chart for the period 2010-2019:"
   ]
  },
  {
   "cell_type": "code",
   "execution_count": 6,
   "id": "74b458f2-5719-438e-85f1-708169335732",
   "metadata": {},
   "outputs": [
    {
     "data": {
      "text/plain": [
       "[<matplotlib.lines.Line2D at 0xc7d23c3e50>]"
      ]
     },
     "execution_count": 6,
     "metadata": {},
     "output_type": "execute_result"
    },
    {
     "data": {
      "image/png": "[encoded data removed]",
      "text/plain": [
       "<Figure size 432x288 with 1 Axes>"
      ]
     },
     "metadata": {
      "needs_background": "light"
     },
     "output_type": "display_data"
    }
   ],
   "source": [
    "plt.plot(data.index, data['Close'])"
   ]
  },
  {
   "cell_type": "markdown",
   "id": "fd8b64ed-91f2-48d7-b28d-e18d68ce5357",
   "metadata": {},
   "source": [
    "### Plotting the 100 day moving average"
   ]
  },
  {
   "cell_type": "code",
   "execution_count": 7,
   "id": "0ea46da5-bacd-45ae-a79f-724d39587f0a",
   "metadata": {},
   "outputs": [],
   "source": [
    "data['100MA'] = data['Close'].rolling(window = 100).mean()"
   ]
  },
  {
   "cell_type": "code",
   "execution_count": 8,
   "id": "7867a6cf-318d-493a-9817-0cd78e5a81fd",
   "metadata": {},
   "outputs": [
    {
     "data": {
      "text/plain": [
       "Date\n",
       "2010-01-04           NaN\n",
       "2010-01-05           NaN\n",
       "2010-01-06           NaN\n",
       "2010-01-07           NaN\n",
       "2010-01-08           NaN\n",
       "                 ...    \n",
       "2019-12-24    291.819065\n",
       "2019-12-26    291.694673\n",
       "2019-12-27    291.630770\n",
       "2019-12-30    291.697600\n",
       "2019-12-31    291.712722\n",
       "Name: 100MA, Length: 2462, dtype: float64"
      ]
     },
     "execution_count": 8,
     "metadata": {},
     "output_type": "execute_result"
    }
   ],
   "source": [
    "data['100MA']"
   ]
  },
  {
   "cell_type": "code",
   "execution_count": 10,
   "id": "c2ef8b81-9645-4b3e-b499-c171b7f410c8",
   "metadata": {},
   "outputs": [
    {
     "data": {
      "text/plain": [
       "[<matplotlib.lines.Line2D at 0xc7d2441d30>]"
      ]
     },
     "execution_count": 10,
     "metadata": {},
     "output_type": "execute_result"
    },
    {
     "data": {
      "image/png": "[encoded data removed]",
      "text/plain": [
       "<Figure size 432x288 with 1 Axes>"
      ]
     },
     "metadata": {
      "needs_background": "light"
     },
     "output_type": "display_data"
    }
   ],
   "source": [
    "plt.plot(data.index, data['100MA'])"
   ]
  },
  {
   "cell_type": "markdown",
   "id": "737c7807-57b4-47a6-9894-7ef3c045db0d",
   "metadata": {},
   "source": [
    "### Plotting the 200 day moving average"
   ]
  },
  {
   "cell_type": "code",
   "execution_count": 11,
   "id": "a68db166-2077-4377-b223-0054f73cd8b8",
   "metadata": {},
   "outputs": [],
   "source": [
    "data['200MA'] = data['Close'].rolling(window = 200).mean()"
   ]
  },
  {
   "cell_type": "code",
   "execution_count": 12,
   "id": "d93e9482-247a-4f4a-8b25-318948d65a53",
   "metadata": {},
   "outputs": [
    {
     "data": {
      "text/plain": [
       "Date\n",
       "2010-01-04           NaN\n",
       "2010-01-05           NaN\n",
       "2010-01-06           NaN\n",
       "2010-01-07           NaN\n",
       "2010-01-08           NaN\n",
       "                 ...    \n",
       "2019-12-24    305.387341\n",
       "2019-12-26    305.697102\n",
       "2019-12-27    306.036620\n",
       "2019-12-30    306.355406\n",
       "2019-12-31    306.651996\n",
       "Name: 200MA, Length: 2462, dtype: float64"
      ]
     },
     "execution_count": 12,
     "metadata": {},
     "output_type": "execute_result"
    }
   ],
   "source": [
    "data['200MA']"
   ]
  },
  {
   "cell_type": "code",
   "execution_count": 13,
   "id": "e497b08f-6b0c-4509-80e0-f859be417b6f",
   "metadata": {},
   "outputs": [
    {
     "data": {
      "text/plain": [
       "[<matplotlib.lines.Line2D at 0xc7bff7e520>]"
      ]
     },
     "execution_count": 13,
     "metadata": {},
     "output_type": "execute_result"
    },
    {
     "data": {
      "image/png": "[encoded data removed]",
      "text/plain": [
       "<Figure size 432x288 with 1 Axes>"
      ]
     },
     "metadata": {
      "needs_background": "light"
     },
     "output_type": "display_data"
    }
   ],
   "source": [
    "plt.plot(data.index, data['100MA'])"
   ]
  },
  {
   "cell_type": "markdown",
   "id": "90a591bc-2f47-4e68-aae3-7059d8d819b1",
   "metadata": {},
   "source": [
    "### Visualizing the closing price and the 100 day MA:"
   ]
  },
  {
   "cell_type": "code",
   "execution_count": null,
   "id": "f7b18932-7cf0-4ccd-8a62-8154a94bb6fb",
   "metadata": {},
   "outputs": [],
   "source": []
  },
  {
   "cell_type": "markdown",
   "id": "65f73fa3-b1c9-4093-ae8c-02fa64c91633",
   "metadata": {},
   "source": [
    "### Visualizing all the parameters:"
   ]
  },
  {
   "cell_type": "code",
   "execution_count": null,
   "id": "29f3a477-fc14-464e-bcc9-e8a9b4adc1e4",
   "metadata": {},
   "outputs": [],
   "source": []
  },
  {
   "cell_type": "markdown",
   "id": "840b4d31-923a-40f8-8151-a8cea63c92b5",
   "metadata": {},
   "source": [
    "### Observation:\n",
    "\n",
    "#### If the 100 day moving average goes above the 200 day moving average than the stock price is expected to go up, \n",
    "#### otherwise it is expected to go down. (A very basic strategy used by stock market analysts) "
   ]
  },
  {
   "cell_type": "code",
   "execution_count": null,
   "id": "65174065-4bb4-4f90-816e-745607cee0ff",
   "metadata": {},
   "outputs": [],
   "source": []
  },
  {
   "cell_type": "code",
   "execution_count": null,
   "id": "7535a948-e426-4f41-a6b8-0e64c6dd9398",
   "metadata": {},
   "outputs": [],
   "source": []
  },
  {
   "cell_type": "code",
   "execution_count": null,
   "id": "dc5221d2-940e-4a73-aab2-82c67a4f25cd",
   "metadata": {},
   "outputs": [],
   "source": []
  }
 ],
 "metadata": {
  "kernelspec": {
   "display_name": "Python 3 (ipykernel)",
   "language": "python",
   "name": "python3"
  },
  "language_info": {
   "codemirror_mode": {
    "name": "ipython",
    "version": 3
   },
   "file_extension": ".py",
   "mimetype": "text/x-python",
   "name": "python",
   "nbconvert_exporter": "python",
   "pygments_lexer": "ipython3",
   "version": "3.9.5"
  }
 },
 "nbformat": 4,
 "nbformat_minor": 5
}
